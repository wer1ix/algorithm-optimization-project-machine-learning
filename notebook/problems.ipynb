{
 "cells": [
  {
   "attachments": {},
   "cell_type": "markdown",
   "id": "27b09e13",
   "metadata": {},
   "source": [
    "# Optimization of Algorithms problems"
   ]
  },
  {
   "attachments": {},
   "cell_type": "markdown",
   "id": "ed05e9bf",
   "metadata": {},
   "source": [
    "## Exercise 1\n",
    "### Code Optimization for Text Processing\n",
    "\n",
    "You are provided with a text processing code to perform the following operations:\n",
    "\n",
    "1. Convert all text to lowercase.\n",
    "2. Remove punctuation marks.\n",
    "3. Count the frequency of each word.\n",
    "4. Show the 5 most common words.\n",
    "\n",
    "The code works, but it is inefficient and can be optimized. Your task is to identify areas that can be improved and rewrite those parts to make the code more efficient and readable."
   ]
  },
  {
   "cell_type": "code",
   "execution_count": 1,
   "id": "8467465b",
   "metadata": {},
   "outputs": [
    {
     "name": "stdout",
     "output_type": "stream",
     "text": [
      "'the': 5 times\n",
      "'of': 3 times\n",
      "'in': 2 times\n",
      "'a': 2 times\n",
      "'she': 2 times\n"
     ]
    }
   ],
   "source": [
    "import string\n",
    "\n",
    "def process_text(text):\n",
    "    # Text to lowercase\n",
    "    text = text.lower()\n",
    "\n",
    "    # Remove punctuation\n",
    "    for p in string.punctuation:\n",
    "        text = text.replace(p, \"\")\n",
    "\n",
    "    # Split text into words\n",
    "    words = text.split()\n",
    "\n",
    "    # Count frecuencies\n",
    "    frequencies = {}\n",
    "    for w in words:\n",
    "        if w in frequencies:\n",
    "            frequencies[w] += 1\n",
    "        else:\n",
    "            frequencies[w] = 1\n",
    "\n",
    "    sorted_frequencies = sorted(frequencies.items(), key = lambda x: x[1], reverse = True)\n",
    "\n",
    "    # Get 5 most-common words\n",
    "    top_5 = sorted_frequencies[:5]\n",
    "    \n",
    "    for w, frequency in top_5:\n",
    "        print(f\"'{w}': {frequency} times\")\n",
    "\n",
    "text = \"\"\"\n",
    "    In the heart of the city, Emily discovered a quaint little café, hidden away from the bustling streets. \n",
    "    The aroma of freshly baked pastries wafted through the air, drawing in passersby. As she sipped on her latte, \n",
    "    she noticed an old bookshelf filled with classics, creating a cozy atmosphere that made her lose track of time.\n",
    "\"\"\"\n",
    "process_text(text)"
   ]
  },
  {
   "cell_type": "markdown",
   "id": "29040779",
   "metadata": {},
   "source": [
    "Points to optimize:\n",
    "\n",
    "1. **Removal of punctuation marks**: Using `replace` in a loop can be inefficient, especially with long texts. Look for a more efficient way to remove punctuation marks.\n",
    "2. **Frequency count**: The code checks for the existence of each word in the dictionary and then updates its count. This can be done more efficiently with certain data structures in Python.\n",
    "3. **Sort and select:** Consider if there is a more direct or efficient way to get the 5 most frequent words without sorting all the words.\n",
    "4. **Modularity**: Break the code into smaller functions so that each one performs a specific task. This will not only optimize performance, but also make the code more readable and maintainable."
   ]
  },
  {
   "cell_type": "code",
   "execution_count": 9,
   "id": "a3fffd40",
   "metadata": {},
   "outputs": [
    {
     "data": {
      "text/plain": [
       "'\\n    in the heart of the city, emily discovered a quaint little café, hidden away from the bustling streets. \\n    the aroma of freshly baked pastries wafted through the air, drawing in passersby. as she sipped on her latte, \\n    she noticed an old bookshelf filled with classics, creating a cozy atmosphere that made her lose track of time.\\n'"
      ]
     },
     "execution_count": 9,
     "metadata": {},
     "output_type": "execute_result"
    }
   ],
   "source": [
    "# casefold es un método más agresivo que lower para minusculizar palabras\n",
    "a = text.casefold()\n",
    "a"
   ]
  },
  {
   "cell_type": "code",
   "execution_count": 8,
   "id": "e722e9ed",
   "metadata": {},
   "outputs": [
    {
     "data": {
      "text/plain": [
       "'\\n    in the heart of the city emily discovered a quaint little café hidden away from the bustling streets \\n    the aroma of freshly baked pastries wafted through the air drawing in passersby as she sipped on her latte \\n    she noticed an old bookshelf filled with classics creating a cozy atmosphere that made her lose track of time\\n'"
      ]
     },
     "execution_count": 8,
     "metadata": {},
     "output_type": "execute_result"
    }
   ],
   "source": [
    "# usamos maketrans para crear una tabla para mapear con translate \n",
    "# los primeros dos argumentos son para sustituir entre sí pero solo necesitamos eliminar, eso lo da el 3er argumento\n",
    "# string.punctuation son todos los signos de puntuación\n",
    "# \n",
    "# entonces estamos pasando un mapa que indica\n",
    "# \"no sustituyas nada, elimina signos de puntuación\" para pasar a translate\n",
    "b = a.translate(str.maketrans(\"\", \"\", string.punctuation))\n",
    "b"
   ]
  },
  {
   "cell_type": "code",
   "execution_count": null,
   "id": "bd9515f4",
   "metadata": {},
   "outputs": [
    {
     "data": {
      "text/plain": [
       "['in',\n",
       " 'the',\n",
       " 'heart',\n",
       " 'of',\n",
       " 'the',\n",
       " 'city',\n",
       " 'emily',\n",
       " 'discovered',\n",
       " 'a',\n",
       " 'quaint',\n",
       " 'little',\n",
       " 'café',\n",
       " 'hidden',\n",
       " 'away',\n",
       " 'from',\n",
       " 'the',\n",
       " 'bustling',\n",
       " 'streets',\n",
       " 'the',\n",
       " 'aroma',\n",
       " 'of',\n",
       " 'freshly',\n",
       " 'baked',\n",
       " 'pastries',\n",
       " 'wafted',\n",
       " 'through',\n",
       " 'the',\n",
       " 'air',\n",
       " 'drawing',\n",
       " 'in',\n",
       " 'passersby',\n",
       " 'as',\n",
       " 'she',\n",
       " 'sipped',\n",
       " 'on',\n",
       " 'her',\n",
       " 'latte',\n",
       " 'she',\n",
       " 'noticed',\n",
       " 'an',\n",
       " 'old',\n",
       " 'bookshelf',\n",
       " 'filled',\n",
       " 'with',\n",
       " 'classics',\n",
       " 'creating',\n",
       " 'a',\n",
       " 'cozy',\n",
       " 'atmosphere',\n",
       " 'that',\n",
       " 'made',\n",
       " 'her',\n",
       " 'lose',\n",
       " 'track',\n",
       " 'of',\n",
       " 'time']"
      ]
     },
     "execution_count": 7,
     "metadata": {},
     "output_type": "execute_result"
    }
   ],
   "source": [
    "# generamos una lista con todas las palabras ya sin signos de puntuación y en minúsculas\n",
    "c = b.split()\n",
    "c"
   ]
  },
  {
   "cell_type": "code",
   "execution_count": 11,
   "id": "3fa87d27",
   "metadata": {},
   "outputs": [
    {
     "data": {
      "text/plain": [
       "Counter({'the': 5,\n",
       "         'of': 3,\n",
       "         'in': 2,\n",
       "         'a': 2,\n",
       "         'she': 2,\n",
       "         'her': 2,\n",
       "         'heart': 1,\n",
       "         'city': 1,\n",
       "         'emily': 1,\n",
       "         'discovered': 1,\n",
       "         'quaint': 1,\n",
       "         'little': 1,\n",
       "         'café': 1,\n",
       "         'hidden': 1,\n",
       "         'away': 1,\n",
       "         'from': 1,\n",
       "         'bustling': 1,\n",
       "         'streets': 1,\n",
       "         'aroma': 1,\n",
       "         'freshly': 1,\n",
       "         'baked': 1,\n",
       "         'pastries': 1,\n",
       "         'wafted': 1,\n",
       "         'through': 1,\n",
       "         'air': 1,\n",
       "         'drawing': 1,\n",
       "         'passersby': 1,\n",
       "         'as': 1,\n",
       "         'sipped': 1,\n",
       "         'on': 1,\n",
       "         'latte': 1,\n",
       "         'noticed': 1,\n",
       "         'an': 1,\n",
       "         'old': 1,\n",
       "         'bookshelf': 1,\n",
       "         'filled': 1,\n",
       "         'with': 1,\n",
       "         'classics': 1,\n",
       "         'creating': 1,\n",
       "         'cozy': 1,\n",
       "         'atmosphere': 1,\n",
       "         'that': 1,\n",
       "         'made': 1,\n",
       "         'lose': 1,\n",
       "         'track': 1,\n",
       "         'time': 1})"
      ]
     },
     "execution_count": 11,
     "metadata": {},
     "output_type": "execute_result"
    }
   ],
   "source": [
    "from collections import Counter\n",
    "# creamos un diccionario con las palabras como llave y sus cuentas como valores\n",
    "d = Counter(c)\n",
    "d"
   ]
  },
  {
   "cell_type": "code",
   "execution_count": 12,
   "id": "30d6e7d3",
   "metadata": {},
   "outputs": [
    {
     "data": {
      "text/plain": [
       "[('the', 5), ('of', 3), ('in', 2), ('a', 2), ('she', 2)]"
      ]
     },
     "execution_count": 12,
     "metadata": {},
     "output_type": "execute_result"
    }
   ],
   "source": [
    "# a este diccionario le aplicamos el método most_common y el 5 para que traiga el top 5\n",
    "e = d.most_common(5)\n",
    "e"
   ]
  },
  {
   "cell_type": "code",
   "execution_count": 16,
   "id": "57cd6641",
   "metadata": {},
   "outputs": [
    {
     "name": "stdout",
     "output_type": "stream",
     "text": [
      "La palabra the se repite 5 veces.\n",
      "La palabra of se repite 3 veces.\n",
      "La palabra in se repite 2 veces.\n",
      "La palabra a se repite 2 veces.\n",
      "La palabra she se repite 2 veces.\n"
     ]
    }
   ],
   "source": [
    "import string\n",
    "\n",
    "\n",
    "def process_text_improved(text, top_n=5):\n",
    "    words = Counter(text.casefold().translate(str.maketrans(\"\",\"\",string.punctuation)).split()).most_common(top_n)\n",
    "    for word, count in words:\n",
    "        print(f\"La palabra {word} se repite {count} veces.\")\n",
    "\n",
    "process_text_improved(text)"
   ]
  },
  {
   "attachments": {},
   "cell_type": "markdown",
   "id": "011996bc",
   "metadata": {},
   "source": [
    "## Exercise 2\n",
    "### Code Optimization for List Processing\n",
    "\n",
    "You have been given a code that performs operations on a list of numbers for:\n",
    "\n",
    "1. Filter out even numbers.\n",
    "2. Duplicate each number.\n",
    "3. Add all numbers.\n",
    "4. Check if the result is a prime number.\n",
    "\n",
    "The code provided achieves its goal, but it may be inefficient. Your task is to identify and improve the parts of the code to increase its efficiency."
   ]
  },
  {
   "cell_type": "code",
   "execution_count": 3,
   "id": "783d03a0",
   "metadata": {},
   "outputs": [
    {
     "name": "stdout",
     "output_type": "stream",
     "text": [
      "Result: 60, ¿Prime? No\n"
     ]
    }
   ],
   "source": [
    "import math\n",
    "\n",
    "def is_prime(n):\n",
    "    if n <= 1:\n",
    "        return False\n",
    "    for i in range(2, int(math.sqrt(n)) + 1):\n",
    "        if n % i == 0:\n",
    "            return False\n",
    "    return True\n",
    "\n",
    "def process_list(list_):\n",
    "    filtered_list = []\n",
    "    for num in list_:\n",
    "        if num % 2 == 0:\n",
    "            filtered_list.append(num)\n",
    "    \n",
    "    duplicate_list = []\n",
    "    for num in filtered_list:\n",
    "        duplicate_list.append(num * 2)\n",
    "        \n",
    "    sum = 0\n",
    "    for num in duplicate_list:\n",
    "        sum += num\n",
    "\n",
    "    prime = is_prime(sum)\n",
    "    \n",
    "    return sum, prime\n",
    "\n",
    "list_ = [1, 2, 3, 4, 5, 6, 7, 8, 9, 10]\n",
    "result, result_prime = process_list(list_)\n",
    "print(f\"Result: {result}, ¿Prime? {'Yes' if result_prime else 'No'}\")"
   ]
  },
  {
   "cell_type": "markdown",
   "id": "128d564e",
   "metadata": {},
   "source": [
    "Points to optimize:\n",
    "\n",
    "1. **Filter numbers**: The code goes through the original list to filter out even numbers. Consider a more efficient way to filter the list.\n",
    "2. **Duplication**: The list is traversed multiple times. Is there a way to do this more efficiently?\n",
    "3. **Summing**: The numbers in a list are summed through a loop. Python has built-in functions that can optimize this.\n",
    "4. **Function `is_prime`**: While this function is relatively efficient, investigate if there are ways to make it even faster.\n",
    "5. **Modularity**: Consider breaking the code into smaller functions, each focused on a specific task."
   ]
  },
  {
   "cell_type": "code",
   "execution_count": 18,
   "id": "f40e35d6",
   "metadata": {},
   "outputs": [
    {
     "name": "stdout",
     "output_type": "stream",
     "text": [
      "Result: 60, ¿Prime? No\n"
     ]
    }
   ],
   "source": [
    "import math\n",
    "\n",
    "def is_prime_improved(n: int) -> bool:\n",
    "    if n < 2: \n",
    "        return False\n",
    "    if n % 2 == 0: \n",
    "        return n == 2\n",
    "    limit = math.isqrt(n)\n",
    "    for i in range(3, limit + 1, 2):\n",
    "        if n % i == 0:\n",
    "            return False\n",
    "    return True\n",
    "\n",
    "def process_list_improved(nums):\n",
    "    total = sum(x * 2 for x in nums if x % 2 == 0)  # duplica pares y suma\n",
    "    return total, is_prime_improved(total)\n",
    "\n",
    "# Ejemplo\n",
    "nums = [1,2,3,4,5,6,7,8,9,10]\n",
    "total, es_primo = process_list_improved(nums)\n",
    "print(f\"Result: {total}, ¿Prime? {'Yes' if es_primo else 'No'}\")\n"
   ]
  },
  {
   "attachments": {},
   "cell_type": "markdown",
   "id": "1af70806",
   "metadata": {},
   "source": [
    "Both exercises will help you improve your code performance optimization skills and give you a better understanding of how different data structures and programming techniques can affect the efficiency of your code."
   ]
  }
 ],
 "metadata": {
  "kernelspec": {
   "display_name": "Python 3",
   "language": "python",
   "name": "python3"
  },
  "language_info": {
   "codemirror_mode": {
    "name": "ipython",
    "version": 3
   },
   "file_extension": ".py",
   "mimetype": "text/x-python",
   "name": "python",
   "nbconvert_exporter": "python",
   "pygments_lexer": "ipython3",
   "version": "3.11.4"
  }
 },
 "nbformat": 4,
 "nbformat_minor": 5
}
